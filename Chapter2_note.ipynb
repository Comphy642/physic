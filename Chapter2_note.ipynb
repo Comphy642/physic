{
 "cells": [
  {
   "cell_type": "markdown",
   "metadata": {
    "id": "quo0ZF4hbk8H"
   },
   "source": [
    "# Chapter 2. The first Python program\n"
   ]
  },
  {
   "cell_type": "markdown",
   "metadata": {
    "id": "v4brveuPL328"
   },
   "source": [
    "# Python built-in functions\n",
    "\n",
    "Cell execution: control+enter, shift+enter\n",
    "\n",
    "\"#\": Annotation. Texts after # are not executed"
   ]
  },
  {
   "cell_type": "code",
   "execution_count": null,
   "metadata": {
    "colab": {
     "base_uri": "https://localhost:8080/"
    },
    "executionInfo": {
     "elapsed": 291,
     "status": "ok",
     "timestamp": 1709267574660,
     "user": {
      "displayName": "Wonshik Choi",
      "userId": "08735979943014793323"
     },
     "user_tz": -540
    },
    "id": "uKoP9f5EcD-M",
    "outputId": "dce388d0-2eda-4873-a059-89f4113c8f28"
   },
   "outputs": [
    {
     "name": "stdout",
     "output_type": "stream",
     "text": [
      "안녕!\n",
      "Hello!\n",
      "Hello World!\n"
     ]
    }
   ],
   "source": [
    "print(\"안녕!\")\n",
    "print(\"Hello!\")\n",
    "\n",
    "A = \"Hello World!\"\n",
    "print(A)"
   ]
  },
  {
   "cell_type": "markdown",
   "metadata": {
    "id": "99M5gi3qMPy4"
   },
   "source": [
    "# Simple numerical calculation functions are included."
   ]
  },
  {
   "cell_type": "code",
   "execution_count": 6,
   "metadata": {
    "colab": {
     "base_uri": "https://localhost:8080/"
    },
    "executionInfo": {
     "elapsed": 288,
     "status": "ok",
     "timestamp": 1709267578065,
     "user": {
      "displayName": "Wonshik Choi",
      "userId": "08735979943014793323"
     },
     "user_tz": -540
    },
    "id": "bdQuYMnOMYXD",
    "outputId": "6d81d266-d39a-4456-8054-fc9ea189a337"
   },
   "outputs": [
    {
     "name": "stdout",
     "output_type": "stream",
     "text": [
      "3\n",
      "12\n",
      "0.8\n",
      "9\n",
      "2\n",
      "1\n"
     ]
    }
   ],
   "source": [
    "# Simple arithmetic operations\n",
    "print(1+2)  # Addition: prints the result of 1 + 2, Output: 3\n",
    "print(3*4)  # Multiplication: prints the result of 3 * 4, Output: 12\n",
    "print(4/5)  # Division: prints the result of 4 divided by 5, Output: 0.8\n",
    "print(3**2)  # Exponentiation: prints 3 raised to the power of 2, Output: 9\n",
    "\n",
    "# Additional arithmetic operations\n",
    "print(5//2)  # Floor division: divides 5 by 2 and rounds down to the nearest whole number, Output: 2\n",
    "print(5%2)   # Modulus: prints the remainder of 5 divided by 2, Output: 1"
   ]
  },
  {
   "cell_type": "markdown",
   "metadata": {
    "id": "NuosKeFuphkx"
   },
   "source": [
    "# Assign a variable\n",
    "\n",
    "x = 3 % assign a value 3 to the variable x"
   ]
  },
  {
   "cell_type": "code",
   "execution_count": null,
   "metadata": {
    "colab": {
     "base_uri": "https://localhost:8080/"
    },
    "executionInfo": {
     "elapsed": 330,
     "status": "ok",
     "timestamp": 1709267584637,
     "user": {
      "displayName": "Wonshik Choi",
      "userId": "08735979943014793323"
     },
     "user_tz": -540
    },
    "id": "nBACu7nzneow",
    "outputId": "48d11b4e-4216-4b20-a42b-ad75db4850a0"
   },
   "outputs": [
    {
     "name": "stdout",
     "output_type": "stream",
     "text": [
      "3\n"
     ]
    }
   ],
   "source": [
    "a = 1\n",
    "b = 2\n",
    "print(a+b)"
   ]
  },
  {
   "cell_type": "markdown",
   "metadata": {
    "id": "spVlU4-pNP2W"
   },
   "source": [
    "# Assign multiple variables"
   ]
  },
  {
   "cell_type": "code",
   "execution_count": null,
   "metadata": {
    "colab": {
     "base_uri": "https://localhost:8080/"
    },
    "executionInfo": {
     "elapsed": 344,
     "status": "ok",
     "timestamp": 1709267590960,
     "user": {
      "displayName": "Wonshik Choi",
      "userId": "08735979943014793323"
     },
     "user_tz": -540
    },
    "id": "FrLDINmhNS41",
    "outputId": "32b65062-4ee7-48ff-8961-6ad02d2b7f07"
   },
   "outputs": [
    {
     "name": "stdout",
     "output_type": "stream",
     "text": [
      "3 2 5\n",
      "2 3\n"
     ]
    }
   ],
   "source": [
    "a, b = 3, 2\n",
    "a, b, c = 3, 2, 5\n",
    "print(a,b,c)\n",
    "\n",
    "a,b=b,a # Interchange the variables\n",
    "print(a,b)"
   ]
  },
  {
   "cell_type": "markdown",
   "metadata": {
    "id": "HEJ3E0u2NydF"
   },
   "source": [
    "# Useful functions"
   ]
  },
  {
   "cell_type": "code",
   "execution_count": null,
   "metadata": {
    "colab": {
     "base_uri": "https://localhost:8080/"
    },
    "executionInfo": {
     "elapsed": 282,
     "status": "ok",
     "timestamp": 1709267593658,
     "user": {
      "displayName": "Wonshik Choi",
      "userId": "08735979943014793323"
     },
     "user_tz": -540
    },
    "id": "70vi54vdN4ts",
    "outputId": "76790705-855c-42a8-9ad4-e0b1c838fb36"
   },
   "outputs": [
    {
     "name": "stdout",
     "output_type": "stream",
     "text": [
      "5\n"
     ]
    }
   ],
   "source": [
    "a, b = 3, 2\n",
    "a+=b # a=a+b\n",
    "print(a)\n",
    "#a-=b # a=a-b\n",
    "#a*=b # a=a*b\n",
    "#a/=b # a=a/b"
   ]
  },
  {
   "cell_type": "markdown",
   "metadata": {
    "id": "xRQutgUUR3Ac"
   },
   "source": [
    "# Complex number"
   ]
  },
  {
   "cell_type": "code",
   "execution_count": null,
   "metadata": {
    "colab": {
     "base_uri": "https://localhost:8080/"
    },
    "executionInfo": {
     "elapsed": 306,
     "status": "ok",
     "timestamp": 1709267596952,
     "user": {
      "displayName": "Wonshik Choi",
      "userId": "08735979943014793323"
     },
     "user_tz": -540
    },
    "id": "tam2i99ER6xR",
    "outputId": "903d7e3d-cc52-4ab2-d24c-54049fdc3115"
   },
   "outputs": [
    {
     "name": "stdout",
     "output_type": "stream",
     "text": [
      "(4+6j)\n"
     ]
    }
   ],
   "source": [
    "y = 2+3j # complex number\n",
    "print(2*y)"
   ]
  },
  {
   "cell_type": "markdown",
   "metadata": {
    "id": "DxIwbQJPOtEL"
   },
   "source": [
    "# Import library\n",
    "For complex calculation beyond those supported by the built-in functions, we'd better use algorithms developed by other experts.\n",
    "\n",
    "Most widely used library: numpy\n",
    "\n",
    "Two ways to import:\n",
    "\n",
    "1. Simple method\n",
    "  import numpy\n",
    "  numpy.function()\n",
    "2. Convenient method\n",
    "  import numpy as np\n",
    "  np.function()\n"
   ]
  },
  {
   "cell_type": "code",
   "execution_count": null,
   "metadata": {
    "colab": {
     "base_uri": "https://localhost:8080/"
    },
    "executionInfo": {
     "elapsed": 288,
     "status": "ok",
     "timestamp": 1709267600388,
     "user": {
      "displayName": "Wonshik Choi",
      "userId": "08735979943014793323"
     },
     "user_tz": -540
    },
    "id": "a71_y9dVPA_u",
    "outputId": "0f3fe51a-a680-4886-8cfd-7bee26fd5fa5"
   },
   "outputs": [
    {
     "data": {
      "text/plain": [
       "3.141592653589793"
      ]
     },
     "execution_count": 32,
     "metadata": {},
     "output_type": "execute_result"
    }
   ],
   "source": [
    "import numpy\n",
    "numpy.pi\n"
   ]
  },
  {
   "cell_type": "code",
   "execution_count": null,
   "metadata": {
    "colab": {
     "base_uri": "https://localhost:8080/"
    },
    "executionInfo": {
     "elapsed": 321,
     "status": "ok",
     "timestamp": 1709267602747,
     "user": {
      "displayName": "Wonshik Choi",
      "userId": "08735979943014793323"
     },
     "user_tz": -540
    },
    "id": "6Rl7BwdBPmbu",
    "outputId": "4a1b9cf6-2a7a-4dd9-9266-d89a1c7e2471",
    "scrolled": true
   },
   "outputs": [
    {
     "data": {
      "text/plain": [
       "3.141592653589793"
      ]
     },
     "execution_count": 33,
     "metadata": {},
     "output_type": "execute_result"
    }
   ],
   "source": [
    "import numpy as np\n",
    "np.pi\n",
    "#np.e\n",
    "#np.exp(1.0)\n",
    "#np.log(1.0) # lnx with x = 1"
   ]
  },
  {
   "cell_type": "code",
   "execution_count": 5,
   "metadata": {
    "colab": {
     "base_uri": "https://localhost:8080/"
    },
    "executionInfo": {
     "elapsed": 293,
     "status": "ok",
     "timestamp": 1709267605159,
     "user": {
      "displayName": "Wonshik Choi",
      "userId": "08735979943014793323"
     },
     "user_tz": -540
    },
    "id": "KmfTmF4Knlmf",
    "outputId": "2196c3ac-fd68-4815-f20c-894678b2a3fc"
   },
   "outputs": [
    {
     "name": "stdout",
     "output_type": "stream",
     "text": [
      "3.141592653589793\n",
      "1.0\n"
     ]
    },
    {
     "data": {
      "text/plain": [
       "1.0"
      ]
     },
     "execution_count": 5,
     "metadata": {},
     "output_type": "execute_result"
    }
   ],
   "source": [
    "print(np.pi) # Print the value of pi using numpy\n",
    "print(np.sin(np.pi/2))  # Print the sine of pi/2 using numpy\n",
    "np.sin(np.pi/2)"
   ]
  },
  {
   "cell_type": "code",
   "execution_count": null,
   "metadata": {},
   "outputs": [],
   "source": []
  }
 ],
 "metadata": {
  "colab": {
   "authorship_tag": "ABX9TyOc+VMf9y8xPsWZhthxJhBD",
   "provenance": [
    {
     "file_id": "1_IU4_TcXW8k7IGf5R7zhO8ocADJOHdkh",
     "timestamp": 1709278149437
    }
   ]
  },
  "kernelspec": {
   "display_name": "Python [conda env:base] *",
   "language": "python",
   "name": "conda-base-py"
  },
  "language_info": {
   "codemirror_mode": {
    "name": "ipython",
    "version": 3
   },
   "file_extension": ".py",
   "mimetype": "text/x-python",
   "name": "python",
   "nbconvert_exporter": "python",
   "pygments_lexer": "ipython3",
   "version": "3.12.7"
  }
 },
 "nbformat": 4,
 "nbformat_minor": 4
}
