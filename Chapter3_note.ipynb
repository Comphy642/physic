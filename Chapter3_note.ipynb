{
 "cells": [
  {
   "cell_type": "markdown",
   "metadata": {
    "id": "exMrBQCVt5K5"
   },
   "source": [
    "## Connet Google Colab to Google Drive"
   ]
  },
  {
   "cell_type": "code",
   "execution_count": null,
   "metadata": {
    "colab": {
     "base_uri": "https://localhost:8080/"
    },
    "executionInfo": {
     "elapsed": 20933,
     "status": "ok",
     "timestamp": 1709275141102,
     "user": {
      "displayName": "Wonshik Choi",
      "userId": "08735979943014793323"
     },
     "user_tz": -540
    },
    "id": "bOP6j4L-umdr",
    "outputId": "09d01c0b-396d-41ff-cfb4-d4dc5a8373b1"
   },
   "outputs": [
    {
     "name": "stdout",
     "output_type": "stream",
     "text": [
      "Mounted at /content/drive\n"
     ]
    }
   ],
   "source": [
    "from google.colab import drive # Import the drive module from the google.colab package\n",
    "drive.mount('/content/drive')\n",
    "# Mount the user's Google Drive to the specified directory on the Colab virtual machine.\n",
    "# This command will prompt the user to authorize access to their Google Drive.\n",
    "# The user must follow the link provided, sign in to their Google account, and copy-paste the authorization code back into Colab.\n",
    "# '/content/drive' is the mount point in the Colab file system where the Google Drive will be attached."
   ]
  },
  {
   "cell_type": "code",
   "execution_count": null,
   "metadata": {
    "id": "HedpYHA7usw9"
   },
   "outputs": [],
   "source": [
    "with open('/content/drive/MyDrive/test.txt', 'w') as f:\n",
    "  f.write('Hello Google Drive!')\n",
    "# The 'with' statement is used for resource management and it ensures that the file is properly closed after its suite finishes, even if an error occurs.\n",
    "# 'open' is a built-in function used to open a file.\n",
    "# '/content/drive/MyDrive/test1.txt' specifies the path to the file 'test1.txt' in the 'MyDrive' folder of the mounted Google Drive.\n",
    "# The 'w' argument specifies that the file is opened for writing.\n",
    "# The 'write' method of the file object 'f' is used to write the string 'Hello Google Drive!' into the file."
   ]
  },
  {
   "cell_type": "code",
   "execution_count": null,
   "metadata": {
    "id": "CsKtR5tRuveG"
   },
   "outputs": [],
   "source": [
    "with open('/content/drive/MyDrive/test.txt', 'r') as f:\n",
    "  print(f.read())\n",
    "# The 'r' argument specifies that the file is to be opened in read mode, which is the default mode when no mode is specified.\n",
    "# 'f.read()' reads the entire contents of the file and returns it as a single string.\n",
    "# The 'print()' function then outputs the content of 'test1.txt' to the console."
   ]
  },
  {
   "cell_type": "markdown",
   "metadata": {
    "id": "rw-_GtYrYop7"
   },
   "source": [
    "## Plot a graph\n",
    "\n",
    "- In physics, graphs are widely used to show the results intuitively\n",
    "- In Python, 'pyplot' package in 'matplotlib' is widely used\n",
    "- To import this package, use the following command: matplotlib.pyplot as plt"
   ]
  },
  {
   "cell_type": "code",
   "execution_count": null,
   "metadata": {
    "id": "7FB0XDziZQl3"
   },
   "outputs": [],
   "source": [
    "import numpy as np, matplotlib.pyplot as plt"
   ]
  },
  {
   "cell_type": "markdown",
   "metadata": {
    "id": "NGTCEowpaYln"
   },
   "source": [
    "# Let's import data to plot\n",
    "\n",
    "- Go to the website:\n",
    "https://sites.google.com/view/compphys/\n",
    "\n",
    "- And download 'seoul_temp.txt': 1954년부터 서울 지역의 매일 최저, 평균, 최고 기온\n",
    "\n",
    "- You can download the original data from '기상청 국가기상종합정보 홈페이지' http://www.weather.go.kr/\n",
    "\n",
    "- Upload the file to google colab: click folder icon and upload the file\n",
    "\n",
    "- Google colab can access to files in this folder"
   ]
  },
  {
   "cell_type": "code",
   "execution_count": null,
   "metadata": {
    "id": "27n5yZhzbY-1"
   },
   "outputs": [],
   "source": [
    "data = np.loadtxt(\"seoul_temp.txt\",dtype=\"str\") #import data in the file as string format\n",
    "print(data)"
   ]
  },
  {
   "cell_type": "markdown",
   "metadata": {
    "id": "3q8z2az3csd0"
   },
   "source": [
    "- This data has four columns with the format of [Date, lowest temperature, average temperature, highest temperature]\n",
    "- All the data has ' ' as they were imported as string"
   ]
  },
  {
   "cell_type": "code",
   "execution_count": null,
   "metadata": {
    "id": "VNvCdPqOUPqf"
   },
   "outputs": [],
   "source": [
    "print(data.shape)\n",
    "# This line prints the shape attribute of 'data', which is typically a NumPy array or a pandas DataFrame.\n",
    "# The shape attribute is a tuple that contains the dimensions of 'data', where each element in the tuple represents\n",
    "# the size of the array along a dimension. For example, if 'data' is a 2-dimensional array with 3 rows and 5 columns,\n",
    "# data.shape would output (3, 5).\n",
    "\n",
    "# data has 24837 rows and 4 columns\n"
   ]
  },
  {
   "cell_type": "markdown",
   "metadata": {
    "id": "MgoGohCCdgq1"
   },
   "source": [
    "# There are other ways to store data\n",
    "\n",
    "There is a drawback using google colab folder. The file is deleted after closing the browser.\n",
    "There are other ways to store data that can resolve this problem.\n",
    "- Google drive\n",
    "- GitHub\n",
    "- dropbox"
   ]
  },
  {
   "cell_type": "markdown",
   "metadata": {
    "id": "k4A3gMEMzVhb"
   },
   "source": [
    "# Google drive\n",
    "\n",
    "Upload the data to Google drive under 'MyDrive' folder.\n",
    "\n",
    "In my case, I made a subfolder, 'DataCP,' under MyDrive and stored 'seoul_temp.txt' there.\n",
    "\n",
    "Then, we need to mount Google drive and then access to the data file."
   ]
  },
  {
   "cell_type": "code",
   "execution_count": null,
   "metadata": {
    "id": "bk8PT-hudf0-"
   },
   "outputs": [],
   "source": [
    "import numpy as np\n",
    "from google.colab import drive\n",
    "drive.mount('/content/drive')\n",
    "data = np.loadtxt(\"/content/drive/MyDrive/DataCP/seoul_temp.txt\", dtype=\"str\")\n",
    "print(data)"
   ]
  },
  {
   "cell_type": "markdown",
   "metadata": {
    "id": "iijHt8sVlqKi"
   },
   "source": [
    "# Import data from GitHub\n",
    "\n",
    "- First, upload data file to GitHub. Make the file publicly available\n",
    "\n",
    "- Copy the link of raw data\n",
    "\n",
    "In this example, I have uploaded seoul_temp.txt file to the 'CPpublic' folder in my GitHub."
   ]
  },
  {
   "cell_type": "code",
   "execution_count": null,
   "metadata": {
    "collapsed": true,
    "id": "H6SNi7YAfN3o",
    "jupyter": {
     "outputs_hidden": true
    }
   },
   "outputs": [],
   "source": [
    "import numpy as np\n",
    "import urllib.request\n",
    "# This imports the 'request' module from the 'urllib' library.\n",
    "#'urllib' is a Python module used for fetching data across the web (URLs).\n",
    "# The 'request' module specifically allows you to send HTTP requests and handle the responses.\n",
    "# After importing this module, you can use functions like 'urllib.request.urlopen()' to open a URL as if it were a file,\n",
    "# or 'urllib.request.urlretrieve()' to retrieve a URL and save it to a local file.\n",
    "\n",
    "\n",
    "# URL to the text file\n",
    "link = \"https://raw.githubusercontent.com/wonshikchoi/CPpublic/main/seoul_temp.txt\" # data btw 1954-2021\n",
    "#link = \"https://raw.githubusercontent.com/wonshikchoi/CPpublic/main/seoul_temp1.txt\" # data btw 1908-1949\n",
    "\n",
    "# Download the file from `link` and save it locally under `seoul_temp.txt`\n",
    "filename, headers = urllib.request.urlretrieve(link, 'seoul_temp.txt')\n",
    "\n",
    "# Load data from the downloaded text file\n",
    "# Adjust the dtype parameter according to the content of your file\n",
    "data = np.loadtxt('seoul_temp.txt', dtype='str')\n",
    "\n",
    "# Print the loaded data\n",
    "print(data)"
   ]
  },
  {
   "cell_type": "markdown",
   "metadata": {
    "id": "EqfWVum2ltcT"
   },
   "source": [
    "# Handling data in the file"
   ]
  },
  {
   "cell_type": "code",
   "execution_count": null,
   "metadata": {
    "id": "dtUKbzzzwAHL"
   },
   "outputs": [],
   "source": [
    "# Choosing only the average temperature data\n",
    "\n",
    "y = data[:,2].astype(float)\n",
    "print(y)\n",
    "\n",
    "# : indicates all the rows, 2 means choosing only the third column containing the average temperature\n",
    "# Python index starts from 0, so 2 means the third column\n",
    "# Choosing only a certain part of the array data is called 'slicing'\n",
    "# astype(float): convert data to float type\n"
   ]
  },
  {
   "cell_type": "markdown",
   "metadata": {
    "id": "LYMaPkZaxRa0"
   },
   "source": [
    "Let's plot xy graph for the average temperature"
   ]
  },
  {
   "cell_type": "code",
   "execution_count": null,
   "metadata": {
    "id": "kLBzAgmvxZzB"
   },
   "outputs": [],
   "source": [
    "import numpy as np, matplotlib.pyplot as plt\n",
    "data = np.loadtxt(\"/content/drive/MyDrive/DataCP/seoul_temp.txt\", dtype=\"str\")\n",
    "y = data[:,2].astype(float)\n",
    "\n",
    "x = list(range(y.size))\n",
    "print(x)\n",
    "# Generate a list of integers for the x-axis based on the number of data points\n",
    "# range(y.size) generates a sequence of numbers from 0 to the length of y (non-inclusive of the end).\n",
    "# list() converts the range object to a list, which matplotlib requires for the x-axis values.\n",
    "\n",
    "plt.plot(x, y)\n",
    "# Plot the data\n",
    "# plt.plot(x, y) plots y versus x as lines and/or markers.\n",
    "# x is the list of integers representing the position/index of each temperature measurement.\n",
    "# y is the list of temperature measurements (as floats) to be plotted on the y-axis.\n",
    "\n",
    "plt.show()\n",
    "# Display the plot\n",
    "# plt.show() generates the plot window and displays the graph to the user.\n"
   ]
  },
  {
   "cell_type": "code",
   "execution_count": null,
   "metadata": {
    "id": "trhhzhIfyqXY"
   },
   "outputs": [],
   "source": [
    "# Add x label, y lable, title of the figure\n",
    "plt.plot (x,y)\n",
    "plt.xlabel ('day')\n",
    "plt.ylabel('average temperature')\n",
    "plt.title('Average Temperature in Seoul')\n",
    "plt.show()"
   ]
  },
  {
   "cell_type": "markdown",
   "metadata": {
    "id": "5i9xYXryzA9p"
   },
   "source": [
    "## Plot a function\n",
    "\n",
    "- To plot y=f(x), we need to prepare lists for x and y\n",
    "- Let's plot $sin(x)$ for N = 100 points from x=0 to x=2$\\pi$"
   ]
  },
  {
   "cell_type": "code",
   "execution_count": null,
   "metadata": {
    "id": "yEovZfRCzzth"
   },
   "outputs": [],
   "source": [
    "N = 100\n",
    "x_arr = []  # Initialize empty lists for storing the x coordinates of the points to be plotted.\n",
    "y_arr = []  # Initialize empty lists for storing the y coordinates of the points to be plotted.\n",
    "dx = 2*np.pi/N\n",
    "for i in range(N): # Colon (:) is required\n",
    "  x = i*dx         # indentation is required within the for loop\n",
    "  y = np.sin(x)\n",
    "  x_arr.append(x)  # append x to x_arr\n",
    "  y_arr.append(y)  # append y to y_arr\n",
    "\n",
    "plt.plot(x_arr, y_arr, \"o\") # Plots the x and y points as circles. This line creates a scatter plot of the points.\n",
    "plt.plot(x_arr, y_arr)      # Plots the same x and y points as a line plot. By default, this connects all points with lines in the order they appear in the list.\n",
    "#plt.hlines(0.5, 0, 2*np.pi) # plot horizontal line\n",
    "plt.show()\n"
   ]
  },
  {
   "cell_type": "code",
   "execution_count": null,
   "metadata": {
    "id": "tEo30WEF2Ak6"
   },
   "outputs": [],
   "source": [
    "# Simpler way\n",
    "import numpy as np, matplotlib.pyplot as plt\n",
    "N = 100\n",
    "\n",
    "x = np.linspace(0, 2*np.pi, N)\n",
    "# Generate N equally spaced points between 0 and 2*pi\n",
    "# np.linspace(start, stop, num) generates 'num' evenly spaced samples, calculated over the interval [start, stop].\n",
    "\n",
    "# Compute the sine of each x value\n",
    "y = np.sin(x) # y for x vector is calculated at once; This is called vectorization --> computationally efficient\n",
    "\n",
    "plt.plot(x, y)\n",
    "plt.show()\n"
   ]
  },
  {
   "cell_type": "markdown",
   "metadata": {
    "id": "oLuLd_oD200g"
   },
   "source": [
    "## Define my own function"
   ]
  },
  {
   "cell_type": "code",
   "execution_count": null,
   "metadata": {
    "id": "c9Peew5924Vf"
   },
   "outputs": [],
   "source": [
    "import numpy as np, matplotlib.pyplot as plt\n",
    "\n",
    "def f(x):\n",
    "  return(2*np.sin(x/2)*np.cos(x/2)-2)\n",
    "\n",
    "N = 100\n",
    "x = np.linspace(0, 2*np.pi, N)\n",
    "y = f(x)\n",
    "\n",
    "plt.plot(x,y,\"o\")\n",
    "plt.plot(x,y)\n",
    "plt.show()"
   ]
  }
 ],
 "metadata": {
  "colab": {
   "authorship_tag": "ABX9TyNiveMA6UpfD44TCesG2E1s",
   "provenance": [
    {
     "file_id": "17T--AUZA5fSCJbNuY2TspU8emGOAoRta",
     "timestamp": 1709278119561
    }
   ]
  },
  "kernelspec": {
   "display_name": "Python [conda env:base] *",
   "language": "python",
   "name": "conda-base-py"
  },
  "language_info": {
   "codemirror_mode": {
    "name": "ipython",
    "version": 3
   },
   "file_extension": ".py",
   "mimetype": "text/x-python",
   "name": "python",
   "nbconvert_exporter": "python",
   "pygments_lexer": "ipython3",
   "version": "3.12.7"
  }
 },
 "nbformat": 4,
 "nbformat_minor": 4
}
